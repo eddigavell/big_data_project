{
 "metadata": {
  "language_info": {
   "codemirror_mode": {
    "name": "ipython",
    "version": 3
   },
   "file_extension": ".py",
   "mimetype": "text/x-python",
   "name": "python",
   "nbconvert_exporter": "python",
   "pygments_lexer": "ipython3",
   "version": "3.9.2"
  },
  "orig_nbformat": 2,
  "kernelspec": {
   "name": "pythonjvsc74a57bd0ded97d32ba82e279e1c41ef434d11947396ba52f35d67f2e13a291ff487b1bf0",
   "display_name": "Python 3.9.2  ('venv': venv)"
  },
  "metadata": {
   "interpreter": {
    "hash": "ded97d32ba82e279e1c41ef434d11947396ba52f35d67f2e13a291ff487b1bf0"
   }
  }
 },
 "nbformat": 4,
 "nbformat_minor": 2,
 "cells": [
  {
   "cell_type": "code",
   "execution_count": 1,
   "metadata": {},
   "outputs": [
    {
     "output_type": "execute_result",
     "data": {
      "text/plain": [
       "                            row_id  content_id  content_type_id  \\\n",
       "row_id                    1.000000    0.000665        -0.000912   \n",
       "content_id                0.000665    1.000000         0.416264   \n",
       "content_type_id          -0.000912    0.416264         1.000000   \n",
       "task_container_id         0.009624    0.043071        -0.016116   \n",
       "answered_correctly        0.010015   -0.096975        -0.190054   \n",
       "question_elapsed_time     0.010379    0.143951         0.004299   \n",
       "question_had_explanation  0.000561    0.031233         0.016010   \n",
       "time_group                0.010776    0.174625         0.004828   \n",
       "\n",
       "                          task_container_id  answered_correctly  \\\n",
       "row_id                             0.009624            0.010015   \n",
       "content_id                         0.043071           -0.096975   \n",
       "content_type_id                   -0.016116           -0.190054   \n",
       "task_container_id                  1.000000            0.060005   \n",
       "answered_correctly                 0.060005            1.000000   \n",
       "question_elapsed_time             -0.004317           -0.054671   \n",
       "question_had_explanation           0.160935            0.116410   \n",
       "time_group                        -0.006950           -0.064599   \n",
       "\n",
       "                          question_elapsed_time  question_had_explanation  \\\n",
       "row_id                                 0.010379                  0.000561   \n",
       "content_id                             0.143951                  0.031233   \n",
       "content_type_id                        0.004299                  0.016010   \n",
       "task_container_id                     -0.004317                  0.160935   \n",
       "answered_correctly                    -0.054671                  0.116410   \n",
       "question_elapsed_time                  1.000000                  0.066751   \n",
       "question_had_explanation               0.066751                  1.000000   \n",
       "time_group                             0.925765                  0.058106   \n",
       "\n",
       "                          time_group  \n",
       "row_id                      0.010776  \n",
       "content_id                  0.174625  \n",
       "content_type_id             0.004828  \n",
       "task_container_id          -0.006950  \n",
       "answered_correctly         -0.064599  \n",
       "question_elapsed_time       0.925765  \n",
       "question_had_explanation    0.058106  \n",
       "time_group                  1.000000  "
      ],
      "text/html": "<div>\n<style scoped>\n    .dataframe tbody tr th:only-of-type {\n        vertical-align: middle;\n    }\n\n    .dataframe tbody tr th {\n        vertical-align: top;\n    }\n\n    .dataframe thead th {\n        text-align: right;\n    }\n</style>\n<table border=\"1\" class=\"dataframe\">\n  <thead>\n    <tr style=\"text-align: right;\">\n      <th></th>\n      <th>row_id</th>\n      <th>content_id</th>\n      <th>content_type_id</th>\n      <th>task_container_id</th>\n      <th>answered_correctly</th>\n      <th>question_elapsed_time</th>\n      <th>question_had_explanation</th>\n      <th>time_group</th>\n    </tr>\n  </thead>\n  <tbody>\n    <tr>\n      <th>row_id</th>\n      <td>1.000000</td>\n      <td>0.000665</td>\n      <td>-0.000912</td>\n      <td>0.009624</td>\n      <td>0.010015</td>\n      <td>0.010379</td>\n      <td>0.000561</td>\n      <td>0.010776</td>\n    </tr>\n    <tr>\n      <th>content_id</th>\n      <td>0.000665</td>\n      <td>1.000000</td>\n      <td>0.416264</td>\n      <td>0.043071</td>\n      <td>-0.096975</td>\n      <td>0.143951</td>\n      <td>0.031233</td>\n      <td>0.174625</td>\n    </tr>\n    <tr>\n      <th>content_type_id</th>\n      <td>-0.000912</td>\n      <td>0.416264</td>\n      <td>1.000000</td>\n      <td>-0.016116</td>\n      <td>-0.190054</td>\n      <td>0.004299</td>\n      <td>0.016010</td>\n      <td>0.004828</td>\n    </tr>\n    <tr>\n      <th>task_container_id</th>\n      <td>0.009624</td>\n      <td>0.043071</td>\n      <td>-0.016116</td>\n      <td>1.000000</td>\n      <td>0.060005</td>\n      <td>-0.004317</td>\n      <td>0.160935</td>\n      <td>-0.006950</td>\n    </tr>\n    <tr>\n      <th>answered_correctly</th>\n      <td>0.010015</td>\n      <td>-0.096975</td>\n      <td>-0.190054</td>\n      <td>0.060005</td>\n      <td>1.000000</td>\n      <td>-0.054671</td>\n      <td>0.116410</td>\n      <td>-0.064599</td>\n    </tr>\n    <tr>\n      <th>question_elapsed_time</th>\n      <td>0.010379</td>\n      <td>0.143951</td>\n      <td>0.004299</td>\n      <td>-0.004317</td>\n      <td>-0.054671</td>\n      <td>1.000000</td>\n      <td>0.066751</td>\n      <td>0.925765</td>\n    </tr>\n    <tr>\n      <th>question_had_explanation</th>\n      <td>0.000561</td>\n      <td>0.031233</td>\n      <td>0.016010</td>\n      <td>0.160935</td>\n      <td>0.116410</td>\n      <td>0.066751</td>\n      <td>1.000000</td>\n      <td>0.058106</td>\n    </tr>\n    <tr>\n      <th>time_group</th>\n      <td>0.010776</td>\n      <td>0.174625</td>\n      <td>0.004828</td>\n      <td>-0.006950</td>\n      <td>-0.064599</td>\n      <td>0.925765</td>\n      <td>0.058106</td>\n      <td>1.000000</td>\n    </tr>\n  </tbody>\n</table>\n</div>"
     },
     "metadata": {},
     "execution_count": 1
    }
   ],
   "source": [
    "import pandas as pd\n",
    "train = pd.read_csv('./data_set/new/train_five_million.csv', usecols=[2, 3, 4, 5, 6, 7, 9], low_memory=False)\n",
    "train['question_had_explanation'] = train['question_had_explanation'].astype(bool)\n",
    "train['answered_correctly'] = train['answered_correctly'].astype(int)\n",
    "\"\"\"\n",
    "    0: row_id\n",
    "    1:user_id\n",
    "    2:content_id\n",
    "    3:content_type_id\n",
    "    4:task_container_id\n",
    "    5:answered_correctly\n",
    "    6:question_elapsed_time\n",
    "    7:question_had_explanation\n",
    "    8:question_counter\n",
    "    9:time_group\n",
    "\"\"\"\n",
    "train.corr()"
   ]
  },
  {
   "cell_type": "code",
   "execution_count": 2,
   "metadata": {},
   "outputs": [
    {
     "output_type": "stream",
     "name": "stdout",
     "text": [
      "           answered_correctly question_elapsed_time question_had_explanation\n                         mean                  mean                     mean\ntime_group                                                                  \n0                    0.000000             18.000000                 1.000000\n1                    0.651602              4.663662                 0.765456\n2                    0.708529             15.577511                 0.912482\n3                    0.652176             23.823323                 0.896380\n4                    0.598071             33.768206                 0.887220\n5                    0.587432             43.916406                 0.893291\n6                    0.594242             54.005242                 0.905499\n7                    0.600601             64.016645                 0.913329\n8                    0.603024             74.045239                 0.919756\n9                    0.599086             84.093834                 0.929541\n10                   0.586124             94.070302                 0.927686\n11                   0.571643            151.589253                 0.938100\n"
     ]
    }
   ],
   "source": [
    "grupp1 = train.loc[train.content_type_id == False, ['answered_correctly', 'question_elapsed_time', 'question_had_explanation', 'time_group']].groupby(['time_group']).agg(['mean'])\n",
    "print(grupp1)"
   ]
  },
  {
   "cell_type": "code",
   "execution_count": 5,
   "metadata": {},
   "outputs": [
    {
     "output_type": "stream",
     "name": "stdout",
     "text": [
      "                         answered_correctly question_elapsed_time\n                                       mean                  mean\nquestion_had_explanation                                         \nFalse                              0.493598             21.297810\nTrue                               0.677620             25.516374\n"
     ]
    }
   ],
   "source": [
    "mean = train.loc[train.content_type_id == False, ['answered_correctly', 'question_elapsed_time', 'question_had_explanation']].groupby(['question_had_explanation']).agg(['mean'])\n",
    "print(mean)"
   ]
  },
  {
   "source": [
    "## ML"
   ],
   "cell_type": "markdown",
   "metadata": {}
  },
  {
   "cell_type": "code",
   "execution_count": 6,
   "metadata": {},
   "outputs": [],
   "source": [
    "# columns = ['row_id', 'user_id', 'content_id', 'content_type_id', 'task_container_id', 'question_elapsed_time', 'question_had_explanation', 'question_counter', 'content_id_content']\n",
    "# target = ['answered_correctly']\n",
    "columns = ['question_elapsed_time', 'question_had_explanation']\n",
    "answer = ['answered_correctly']"
   ]
  },
  {
   "cell_type": "code",
   "execution_count": 7,
   "metadata": {},
   "outputs": [],
   "source": [
    "train_x = train[columns]\n",
    "train_y = train[answer]"
   ]
  },
  {
   "cell_type": "code",
   "execution_count": 8,
   "metadata": {},
   "outputs": [],
   "source": [
    "from sklearn.model_selection import train_test_split\n",
    "train_x, test_x, train_y, test_y = train_test_split(train_x, train_y, random_state=42 ,test_size=0.3)"
   ]
  },
  {
   "cell_type": "code",
   "execution_count": 9,
   "metadata": {},
   "outputs": [],
   "source": [
    "from sklearn.linear_model import LogisticRegression\n",
    "logreg = LogisticRegression()\n",
    "logreg.fit(train_x, train_y.values.ravel())\n",
    "prediction = logreg.predict(test_x)"
   ]
  },
  {
   "cell_type": "code",
   "execution_count": 10,
   "metadata": {},
   "outputs": [
    {
     "output_type": "stream",
     "name": "stdout",
     "text": [
      "0.6426306666666667\n"
     ]
    }
   ],
   "source": [
    "print(logreg.score(test_x, test_y))"
   ]
  }
 ]
}